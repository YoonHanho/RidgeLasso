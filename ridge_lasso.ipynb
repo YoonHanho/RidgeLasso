{
  "nbformat": 4,
  "nbformat_minor": 0,
  "metadata": {
    "colab": {
      "name": "ridge_lasso.ipynb",
      "version": "0.3.2",
      "provenance": [],
      "collapsed_sections": []
    },
    "kernelspec": {
      "name": "python3",
      "display_name": "Python 3"
    }
  },
  "cells": [
    {
      "cell_type": "markdown",
      "metadata": {
        "id": "6VNe4bUVKkB_",
        "colab_type": "text"
      },
      "source": [
        "## 규제가 있는 회귀 모델 : boston housing 예제로 간단히 장점을 살펴보자 \n",
        "\n",
        "* 릿지는 산등성이라는 뜻 : 회귀계수 값을 줄여준다\n",
        "* 라소는 올가미라는 뜻 : 대부분 0으로 만들어, 유의한 피처를 확실히 구분지어 준다 \n",
        "* 출처 : 만화로 쉽게 배우는 머신러닝, 27쪽"
      ]
    },
    {
      "cell_type": "code",
      "metadata": {
        "id": "ThgxBJDJ1Jmn",
        "colab_type": "code",
        "colab": {}
      },
      "source": [
        "import pandas as pd \n",
        "\n",
        "from sklearn.datasets import load_boston\n",
        "from sklearn.linear_model import LinearRegression, Ridge, Lasso, ElasticNet\n",
        "from sklearn.metrics import mean_squared_error, r2_score\n",
        "from sklearn.model_selection import train_test_split"
      ],
      "execution_count": 0,
      "outputs": []
    },
    {
      "cell_type": "code",
      "metadata": {
        "id": "-rTgxw7d1bCB",
        "colab_type": "code",
        "colab": {}
      },
      "source": [
        "boston = load_boston()\n",
        "X = boston.data\n",
        "y = boston.target\n",
        "\n",
        "X_train, X_test, y_train, y_test = train_test_split(X, y, test_size=0.33, random_state=42)"
      ],
      "execution_count": 0,
      "outputs": []
    },
    {
      "cell_type": "code",
      "metadata": {
        "id": "_hqXI9-gDErN",
        "colab_type": "code",
        "colab": {}
      },
      "source": [
        "def model_evaluation(model):\n",
        "  model.fit(X_train, y_train) \n",
        "  y_pred = model.predict(X_test)\n",
        "  mse = mean_squared_error(y_test, y_pred)\n",
        "  r2 = r2_score(y_test, y_pred)\n",
        "  coef_sum = sum(model.coef_**2)\n",
        "  \n",
        "  for f, w in zip(boston.feature_names, model.coef_):\n",
        "    print(\"{0:7s}: {1:6.2f}\".format(f, w))\n",
        "  print(\"coef sum : {0:4.2f}\".format(coef_sum))\n",
        "  print(\"MSE : {0:4.2f}\".format(mse))\n",
        "  print(\"R^2 : {0:4.2f}\".format(r2))\n",
        "  \n",
        "  return [coef_sum, mse, r2]"
      ],
      "execution_count": 0,
      "outputs": []
    },
    {
      "cell_type": "code",
      "metadata": {
        "id": "tLZMkyZpHAUm",
        "colab_type": "code",
        "colab": {}
      },
      "source": [
        "results = []"
      ],
      "execution_count": 0,
      "outputs": []
    },
    {
      "cell_type": "code",
      "metadata": {
        "id": "T1ofqBi1D35g",
        "colab_type": "code",
        "colab": {
          "base_uri": "https://localhost:8080/",
          "height": 305
        },
        "outputId": "6a6d1358-ce3f-4766-e024-cbe57fc778e7"
      },
      "source": [
        "# 선형회귀\n",
        "results.append(model_evaluation(LinearRegression()))"
      ],
      "execution_count": 6,
      "outputs": [
        {
          "output_type": "stream",
          "text": [
            "CRIM   :  -0.13\n",
            "ZN     :   0.04\n",
            "INDUS  :   0.06\n",
            "CHAS   :   3.24\n",
            "NOX    : -16.17\n",
            "RM     :   3.90\n",
            "AGE    :  -0.01\n",
            "DIS    :  -1.42\n",
            "RAD    :   0.23\n",
            "TAX    :  -0.01\n",
            "PTRATIO:  -0.93\n",
            "B      :   0.01\n",
            "LSTAT  :  -0.55\n",
            "coef sum : 290.44\n",
            "MSE : 20.72\n",
            "R^2 : 0.73\n"
          ],
          "name": "stdout"
        }
      ]
    },
    {
      "cell_type": "code",
      "metadata": {
        "id": "NxZuPNJQFUSU",
        "colab_type": "code",
        "colab": {
          "base_uri": "https://localhost:8080/",
          "height": 305
        },
        "outputId": "2cd1c096-43f9-4d15-8d4b-0f3b3016b86b"
      },
      "source": [
        "# 릿지 회귀\n",
        "# model_evaluation(Ridge(alpha=10))\n",
        "results.append(model_evaluation(Ridge(alpha=1.0)))"
      ],
      "execution_count": 7,
      "outputs": [
        {
          "output_type": "stream",
          "text": [
            "CRIM   :  -0.12\n",
            "ZN     :   0.04\n",
            "INDUS  :   0.02\n",
            "CHAS   :   3.03\n",
            "NOX    :  -8.05\n",
            "RM     :   3.91\n",
            "AGE    :  -0.02\n",
            "DIS    :  -1.30\n",
            "RAD    :   0.22\n",
            "TAX    :  -0.01\n",
            "PTRATIO:  -0.84\n",
            "B      :   0.01\n",
            "LSTAT  :  -0.57\n",
            "coef sum : 92.03\n",
            "MSE : 21.16\n",
            "R^2 : 0.72\n"
          ],
          "name": "stdout"
        }
      ]
    },
    {
      "cell_type": "code",
      "metadata": {
        "id": "mdM1SGhsEwmU",
        "colab_type": "code",
        "colab": {
          "base_uri": "https://localhost:8080/",
          "height": 305
        },
        "outputId": "67693b92-6f8b-47c8-c0f5-6585405b4518"
      },
      "source": [
        "# 라소 회귀\n",
        "#model_evaluation(Lasso(alpha=2.0))\n",
        "results.append(model_evaluation(Lasso(alpha=0.1)))"
      ],
      "execution_count": 8,
      "outputs": [
        {
          "output_type": "stream",
          "text": [
            "CRIM   :  -0.12\n",
            "ZN     :   0.04\n",
            "INDUS  :  -0.00\n",
            "CHAS   :   1.63\n",
            "NOX    :  -0.00\n",
            "RM     :   3.73\n",
            "AGE    :  -0.02\n",
            "DIS    :  -1.14\n",
            "RAD    :   0.21\n",
            "TAX    :  -0.01\n",
            "PTRATIO:  -0.75\n",
            "B      :   0.01\n",
            "LSTAT  :  -0.61\n",
            "coef sum : 18.86\n",
            "MSE : 22.00\n",
            "R^2 : 0.71\n"
          ],
          "name": "stdout"
        }
      ]
    },
    {
      "cell_type": "code",
      "metadata": {
        "id": "0Ee6moXDEzBr",
        "colab_type": "code",
        "colab": {
          "base_uri": "https://localhost:8080/",
          "height": 305
        },
        "outputId": "54583c21-1436-42e0-86df-d86820f83d27"
      },
      "source": [
        "results.append(model_evaluation(ElasticNet(alpha=0.1, l1_ratio=0.7)))"
      ],
      "execution_count": 9,
      "outputs": [
        {
          "output_type": "stream",
          "text": [
            "CRIM   :  -0.12\n",
            "ZN     :   0.04\n",
            "INDUS  :  -0.00\n",
            "CHAS   :   1.44\n",
            "NOX    :  -0.00\n",
            "RM     :   3.46\n",
            "AGE    :  -0.02\n",
            "DIS    :  -1.15\n",
            "RAD    :   0.22\n",
            "TAX    :  -0.01\n",
            "PTRATIO:  -0.77\n",
            "B      :   0.01\n",
            "LSTAT  :  -0.63\n",
            "coef sum : 16.42\n",
            "MSE : 22.05\n",
            "R^2 : 0.71\n"
          ],
          "name": "stdout"
        }
      ]
    },
    {
      "cell_type": "code",
      "metadata": {
        "id": "eOfb3yDzFEVI",
        "colab_type": "code",
        "colab": {
          "base_uri": "https://localhost:8080/",
          "height": 173
        },
        "outputId": "95c2d26a-7c42-4f41-f766-b28222670fe0"
      },
      "source": [
        "idx = ['LinearRegression', 'Ridge', 'Lasso', 'ElasticNet']\n",
        "col = ['회귀계수제곱합', 'MSE', 'R_Square']\n",
        "df = pd.DataFrame(results, columns=col, index=idx)\n",
        "df"
      ],
      "execution_count": 10,
      "outputs": [
        {
          "output_type": "execute_result",
          "data": {
            "text/html": [
              "<div>\n",
              "<style scoped>\n",
              "    .dataframe tbody tr th:only-of-type {\n",
              "        vertical-align: middle;\n",
              "    }\n",
              "\n",
              "    .dataframe tbody tr th {\n",
              "        vertical-align: top;\n",
              "    }\n",
              "\n",
              "    .dataframe thead th {\n",
              "        text-align: right;\n",
              "    }\n",
              "</style>\n",
              "<table border=\"1\" class=\"dataframe\">\n",
              "  <thead>\n",
              "    <tr style=\"text-align: right;\">\n",
              "      <th></th>\n",
              "      <th>회귀계수제곱합</th>\n",
              "      <th>MSE</th>\n",
              "      <th>R_Square</th>\n",
              "    </tr>\n",
              "  </thead>\n",
              "  <tbody>\n",
              "    <tr>\n",
              "      <th>LinearRegression</th>\n",
              "      <td>290.439793</td>\n",
              "      <td>20.724023</td>\n",
              "      <td>0.726157</td>\n",
              "    </tr>\n",
              "    <tr>\n",
              "      <th>Ridge</th>\n",
              "      <td>92.028855</td>\n",
              "      <td>21.159333</td>\n",
              "      <td>0.720405</td>\n",
              "    </tr>\n",
              "    <tr>\n",
              "      <th>Lasso</th>\n",
              "      <td>18.857107</td>\n",
              "      <td>22.002099</td>\n",
              "      <td>0.709269</td>\n",
              "    </tr>\n",
              "    <tr>\n",
              "      <th>ElasticNet</th>\n",
              "      <td>16.420694</td>\n",
              "      <td>22.045195</td>\n",
              "      <td>0.708699</td>\n",
              "    </tr>\n",
              "  </tbody>\n",
              "</table>\n",
              "</div>"
            ],
            "text/plain": [
              "                     회귀계수제곱합        MSE  R_Square\n",
              "LinearRegression  290.439793  20.724023  0.726157\n",
              "Ridge              92.028855  21.159333  0.720405\n",
              "Lasso              18.857107  22.002099  0.709269\n",
              "ElasticNet         16.420694  22.045195  0.708699"
            ]
          },
          "metadata": {
            "tags": []
          },
          "execution_count": 10
        }
      ]
    },
    {
      "cell_type": "markdown",
      "metadata": {
        "id": "fRGhPz8YIJVu",
        "colab_type": "text"
      },
      "source": [
        "## 릿지, 라소, 엘라스틱넷 등 규제가 있는 회귀의 장점\n",
        "\n",
        "* 회귀계수 값을 작게 하여, 입력 피처의 작은 변동으로도 결과값이 크게 변하는 요소를 줄여줌 : 학습데이터의 오버피팅을 줄여주는 효과\n",
        "* 타겟값에 영향이 큰 피처로 압축하는 효과 : 설명력 \n",
        "* boston housing 데이터 결론 : 규제가 있는 회귀는 선형회귀 대비 회귀계수 값을 대폭 줄여주는 반면, MSE와 R Square는 큰 차이를 보이지 않았음"
      ]
    }
  ]
}